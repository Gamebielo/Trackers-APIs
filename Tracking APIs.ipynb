{
 "cells": [
  {
   "cell_type": "markdown",
   "metadata": {},
   "source": [
    "<h2>Tracking APIs (OpenCV + Python)</h2>"
   ]
  },
  {
   "cell_type": "code",
   "execution_count": 1,
   "metadata": {},
   "outputs": [],
   "source": [
    "import cv2"
   ]
  },
  {
   "cell_type": "code",
   "execution_count": 2,
   "metadata": {},
   "outputs": [],
   "source": [
    "def ask_for_tracker():\n",
    "    print('Bem Vindo! Qual API Gostaria de Usar?')\n",
    "    print('[0] BOOSTING: ')\n",
    "    print('[1] MIL: ')\n",
    "    print('[2] KCF: ')\n",
    "    print('[3] TLD: ')\n",
    "    print('[4] MEDIANFLOW: ')\n",
    "    choice = input()\n",
    "    \n",
    "    if choice == '0':\n",
    "        tracker = cv2.TrackerBoosting_create()\n",
    "    if choice == '1':\n",
    "        tracker = cv2.TrackerMIL_create()\n",
    "    if choice == '2':\n",
    "        tracker = cv2.TrackerKCF_create()\n",
    "    if choice == '3':\n",
    "        tracker = cv2.TrackerTLD_create()\n",
    "    if choice == '4':\n",
    "        tracker = cv2.TrackerMedianFlow_create()\n",
    "        \n",
    "    return tracker"
   ]
  },
  {
   "cell_type": "code",
   "execution_count": 3,
   "metadata": {},
   "outputs": [
    {
     "name": "stdout",
     "output_type": "stream",
     "text": [
      "Bem Vindo! Qual API Gostaria de Usar?\n",
      "[0] BOOSTING: \n",
      "[1] MIL: \n",
      "[2] KCF: \n",
      "[3] TLD: \n",
      "[4] MEDIANFLOW: \n"
     ]
    },
    {
     "name": "stdin",
     "output_type": "stream",
     "text": [
      " 4\n"
     ]
    }
   ],
   "source": [
    "tracker = ask_for_tracker()"
   ]
  },
  {
   "cell_type": "code",
   "execution_count": 4,
   "metadata": {},
   "outputs": [
    {
     "data": {
      "text/plain": [
       "<TrackerMedianFlow 00000229746BD710>"
      ]
     },
     "execution_count": 4,
     "metadata": {},
     "output_type": "execute_result"
    }
   ],
   "source": [
    "tracker"
   ]
  },
  {
   "cell_type": "code",
   "execution_count": 5,
   "metadata": {},
   "outputs": [
    {
     "data": {
      "text/plain": [
       "'TrackerMedianFlow'"
      ]
     },
     "execution_count": 5,
     "metadata": {},
     "output_type": "execute_result"
    }
   ],
   "source": [
    "# Pegando apenas o nome da tracker\n",
    "str(tracker).split()[0][1:]"
   ]
  },
  {
   "cell_type": "code",
   "execution_count": null,
   "metadata": {},
   "outputs": [
    {
     "name": "stdout",
     "output_type": "stream",
     "text": [
      "Bem Vindo! Qual API Gostaria de Usar?\n",
      "[0] BOOSTING: \n",
      "[1] MIL: \n",
      "[2] KCF: \n",
      "[3] TLD: \n",
      "[4] MEDIANFLOW: \n"
     ]
    },
    {
     "name": "stdin",
     "output_type": "stream",
     "text": [
      " 3\n"
     ]
    }
   ],
   "source": [
    "tracker = ask_for_tracker()\n",
    "tracker_name = str(tracker).split()[0][1:]\n",
    "\n",
    "# Lendo o vídeo\n",
    "cap = cv2.VideoCapture(0)\n",
    "\n",
    "# Lendo o primeiro frame\n",
    "ret, frame = cap.read()\n",
    "\n",
    "# A função nos permite desenhar no primeiro quadro o ROI desejado\n",
    "roi = cv2.selectROI(frame, False)\n",
    "\n",
    "# Iniciando o tracker com o primeiro frame e o 'bounding box'\n",
    "ret = tracker.init(frame, roi)\n",
    "\n",
    "while True:\n",
    "    # Lendo um novo frame\n",
    "    ret, frame = cap.read()\n",
    "    \n",
    "    # Atualizando o tracker\n",
    "    success, roi = tracker.update(frame)\n",
    "    \n",
    "    # roi é uma tupla com 4 floats (4 pontos, pois nada mais é que um retangulo)\n",
    "    # Precisams de todos os valores e que sejam inteiros\n",
    "    (x,y,w,h) = tuple(map(int, roi))\n",
    "    \n",
    "    # Desenhar o retangulo conforme a track se movimenta\n",
    "    if success:\n",
    "        # Sucesso (tracking)\n",
    "        p1 = (x, y)\n",
    "        p2 = (x+w, h+y)\n",
    "        cv2.rectangle(frame, p1, p2, (0,255,0), 3) # Desenha um retangulo verde\n",
    "    else:\n",
    "        # Falha (tracking)\n",
    "        cv2.putText(frame, \"Falha em detectar Tracking!\", (100,200), cv2.FONT_HERSHEY_SIMPLEX, 1, (0,255,0), 3)\n",
    "        \n",
    "        # Mostrando o nome do tracker no frame\n",
    "        cv2.putText(frame, tracker_name, (20,400), cv2.FONT_HERSHEY_SIMPLEX, 1, (0,255,0), 3)\n",
    "        \n",
    "        # Resultados\n",
    "        cv2.imshow(tracker_name, frame)\n",
    "        \n",
    "        # Saída com o ESC\n",
    "        k = cv2.waitKey(1) & 0xFF\n",
    "        if k == 27:\n",
    "            break\n",
    "            \n",
    "cap.release()\n",
    "cv2.destroyAllWindows()"
   ]
  },
  {
   "cell_type": "code",
   "execution_count": null,
   "metadata": {},
   "outputs": [],
   "source": []
  }
 ],
 "metadata": {
  "kernelspec": {
   "display_name": "Python 3",
   "language": "python",
   "name": "python3"
  },
  "language_info": {
   "codemirror_mode": {
    "name": "ipython",
    "version": 3
   },
   "file_extension": ".py",
   "mimetype": "text/x-python",
   "name": "python",
   "nbconvert_exporter": "python",
   "pygments_lexer": "ipython3",
   "version": "3.7.4"
  }
 },
 "nbformat": 4,
 "nbformat_minor": 4
}
